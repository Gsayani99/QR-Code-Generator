{
  "nbformat": 4,
  "nbformat_minor": 0,
  "metadata": {
    "colab": {
      "name": "QR-CODE.ipynb",
      "provenance": []
    },
    "kernelspec": {
      "name": "python3",
      "display_name": "Python 3"
    },
    "language_info": {
      "name": "python"
    }
  },
  "cells": [
    {
      "cell_type": "code",
      "execution_count": 7,
      "metadata": {
        "colab": {
          "base_uri": "https://localhost:8080/"
        },
        "id": "xg_rtMIOrguQ",
        "outputId": "00a942d9-e891-4988-9de7-ffc06d8966fb"
      },
      "outputs": [
        {
          "output_type": "stream",
          "name": "stdout",
          "text": [
            "Looking in indexes: https://pypi.org/simple, https://us-python.pkg.dev/colab-wheels/public/simple/\n",
            "Requirement already satisfied: pyqrcode in /usr/local/lib/python3.7/dist-packages (1.2.1)\n"
          ]
        }
      ],
      "source": [
        "!pip install pyqrcode"
      ]
    },
    {
      "cell_type": "code",
      "source": [
        "!pip install pypng"
      ],
      "metadata": {
        "colab": {
          "base_uri": "https://localhost:8080/"
        },
        "id": "e-YGHgqjsVbw",
        "outputId": "477037ef-1a2c-4648-d54c-1412cfdeabd2"
      },
      "execution_count": 8,
      "outputs": [
        {
          "output_type": "stream",
          "name": "stdout",
          "text": [
            "Looking in indexes: https://pypi.org/simple, https://us-python.pkg.dev/colab-wheels/public/simple/\n",
            "Requirement already satisfied: pypng in /usr/local/lib/python3.7/dist-packages (0.20220715.0)\n"
          ]
        }
      ]
    },
    {
      "cell_type": "code",
      "source": [
        "import pyqrcode\n",
        "import png\n",
        "from pyqrcode import QRCode"
      ],
      "metadata": {
        "id": "c-9PiJmmsjN_"
      },
      "execution_count": 9,
      "outputs": []
    },
    {
      "cell_type": "code",
      "source": [
        "site = \"https://en.wikipedia.org/wiki/Maulana_Abul_Kalam_Azad_University_of_Technology\""
      ],
      "metadata": {
        "id": "KDwVxmM2swMs"
      },
      "execution_count": 11,
      "outputs": []
    },
    {
      "cell_type": "code",
      "source": [
        "url_qr = pyqrcode.create(site)"
      ],
      "metadata": {
        "id": "IvSIINQatZbJ"
      },
      "execution_count": 12,
      "outputs": []
    },
    {
      "cell_type": "code",
      "source": [
        "url_qr.svg(\"makaut.svg\", scale = 8)\n",
        "url_qr.png(\"makaut.png\", scale = 6)"
      ],
      "metadata": {
        "id": "ds2EaeOwt283"
      },
      "execution_count": 13,
      "outputs": []
    }
  ]
}